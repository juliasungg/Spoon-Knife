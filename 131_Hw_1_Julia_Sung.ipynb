{
 "cells": [
  {
   "cell_type": "markdown",
   "metadata": {},
   "source": [
    "# Homework 1"
   ]
  },
  {
   "cell_type": "markdown",
   "metadata": {},
   "source": [
    "Feel free to use whatever methods and functions you want to complete each task.\n",
    "The only requirement is that it has to be done in Python 3.\n",
    "Although it is not necessary, you are allowed to import additionaly libraries if you want."
   ]
  },
  {
   "cell_type": "markdown",
   "metadata": {},
   "source": [
    "## Problem 1: [10 pts]\n",
    "\n",
    "Define a function called `replace_symbol()`. It will accept three arguments: a string of text, character a and character b. The function will go through the provided string and replace all instances of character a with character b."
   ]
  },
  {
   "cell_type": "code",
   "execution_count": 1,
   "metadata": {},
   "outputs": [],
   "source": [
    "# write your code here\n",
    "def replace_symbol(text, chara, charb):\n",
    "    text=text.replace(chara, charb)\n",
    "    return(text)\n",
    "\n",
    "# pass is just a placeholder function so that the function definition does not produce an error"
   ]
  },
  {
   "cell_type": "code",
   "execution_count": 2,
   "metadata": {},
   "outputs": [
    {
     "data": {
      "text/plain": [
       "'310-794-7137'"
      ]
     },
     "execution_count": 2,
     "metadata": {},
     "output_type": "execute_result"
    }
   ],
   "source": [
    "# do not modify. We will check this result for grading\n",
    "# test case 1: should return: '310-794-7137'\n",
    "replace_symbol(\"310 794 7137\", \" \",\"-\")"
   ]
  },
  {
   "cell_type": "code",
   "execution_count": 3,
   "metadata": {},
   "outputs": [
    {
     "data": {
      "text/plain": [
       "'happy*go*lucky'"
      ]
     },
     "execution_count": 3,
     "metadata": {},
     "output_type": "execute_result"
    }
   ],
   "source": [
    "# do not modify. We will check this result for grading\n",
    "# test case 2: should return 'happy*go*lucky'\n",
    "replace_symbol(\"happy-go-lucky\",\"-\",\"*\" )"
   ]
  },
  {
   "cell_type": "markdown",
   "metadata": {},
   "source": [
    "## Problem 2:  [10 pts]\n",
    "\n",
    "Define a function called `insert_into(listname, index, iterable)`.\n",
    "It will accept three arguments, a currently existing list, an index, and another list/tuple that will be inserted at the index position.\n",
    "\n",
    "Python's built-in function, `list.insert()` can only insert one object."
   ]
  },
  {
   "cell_type": "code",
   "execution_count": 4,
   "metadata": {},
   "outputs": [],
   "source": [
    "# write your code here\n",
    "def insert_into(listname, index, iterable):\n",
    "    listname[index:index]=iterable\n",
    "    print(listname)"
   ]
  },
  {
   "cell_type": "code",
   "execution_count": 5,
   "metadata": {},
   "outputs": [
    {
     "name": "stdout",
     "output_type": "stream",
     "text": [
      "[0, 'a', 'b', 'hi', 'hello', 'there', 'c', 4, 5, 6]\n"
     ]
    }
   ],
   "source": [
    "# do not modify. We will check this result for grading\n",
    "l = [0,'a','b','c',4,5,6]\n",
    "i = ['hi','hello', 'there']\n",
    "insert_into(l, 3, i)"
   ]
  },
  {
   "cell_type": "markdown",
   "metadata": {},
   "source": [
    "## Problem 3:  [10 pts]\n",
    "\n",
    "Define a function called `first_equals_last(listname)`\n",
    "\n",
    "It will accept a list as an argument. It will return True if the first and last elements are equal and the if the list has a length greater than 1."
   ]
  },
  {
   "cell_type": "code",
   "execution_count": 6,
   "metadata": {},
   "outputs": [],
   "source": [
    "# write your code here\n",
    "def first_equals_last(listname):\n",
    "    if listname[0]==listname[-1] and len(listname)>1:\n",
    "        print(True)\n",
    "    else:\n",
    "        print(False)"
   ]
  },
  {
   "cell_type": "code",
   "execution_count": 7,
   "metadata": {},
   "outputs": [
    {
     "name": "stdout",
     "output_type": "stream",
     "text": [
      "False\n"
     ]
    }
   ],
   "source": [
    "# do not modify. We will check this result for grading\n",
    "a = [1,2,3]\n",
    "first_equals_last(a)"
   ]
  },
  {
   "cell_type": "code",
   "execution_count": 8,
   "metadata": {},
   "outputs": [
    {
     "name": "stdout",
     "output_type": "stream",
     "text": [
      "True\n"
     ]
    }
   ],
   "source": [
    "# do not modify. We will check this result for grading\n",
    "b = ['hello','goodbye','hello']\n",
    "first_equals_last(b)"
   ]
  },
  {
   "cell_type": "code",
   "execution_count": 9,
   "metadata": {},
   "outputs": [
    {
     "name": "stdout",
     "output_type": "stream",
     "text": [
      "False\n"
     ]
    }
   ],
   "source": [
    "# do not modify. We will check this result for grading\n",
    "c  = [1,2,3,'1']\n",
    "first_equals_last(c)"
   ]
  },
  {
   "cell_type": "code",
   "execution_count": 10,
   "metadata": {},
   "outputs": [
    {
     "name": "stdout",
     "output_type": "stream",
     "text": [
      "True\n"
     ]
    }
   ],
   "source": [
    "# do not modify. We will check this result for grading\n",
    "d = [[1,2],[3,2],[1,2]]\n",
    "first_equals_last(d)"
   ]
  },
  {
   "cell_type": "markdown",
   "metadata": {},
   "source": [
    "## Problem 4:  [10 pts]"
   ]
  },
  {
   "cell_type": "markdown",
   "metadata": {},
   "source": [
    "I have provided the text of the children's book \"Green Eggs and Ham\" by Dr. Seuss. The story is famous for being a book written with only 50 unique words.\n",
    "\n",
    "Produce a dictionary called `d`. The key will be the unique words that appear in the text, and the value will be the frequency of the word.\n",
    "\n",
    "Ideas for how to do this with the functions we've learned:\n",
    "- split the string into a list (see str.split)\n",
    "- strip all punctutation from the words (see str.strip, you may need to use a loop to apply it to the list) ',.?!()\\\"\\'-'\n",
    "- iterate over each word in the list and construct your dictionary. For each word, check to see if the key already exists in the dictionary (see in keys() ) add 1 to the value, otherwise create a new key."
   ]
  },
  {
   "cell_type": "code",
   "execution_count": 11,
   "metadata": {},
   "outputs": [],
   "source": [
    "# do not modify. You need this to do the problem\n",
    "geah = '''\n",
    "GREEN EGGS AND HAM\n",
    "I AM SAM. I AM SAM. SAM I AM.\n",
    "THAT SAM I AM! THAT SAM I AM! I DO NOT LIKE THAT SAM I AM!\n",
    "DO WOULD YOU LIKE GREEN EGGS AND HAM?\n",
    "I DO NOT LIKE THEM, SAM I AM. I DO NOT LIKE GREEN EGGS AND HAM.\n",
    "WOULD YOU LIKE THEM HERE OR THERE?\n",
    "I WOULD NOT LIKE THEM HERE OR THERE. I WOULD NOT LIKE THEM ANYWHERE. \n",
    "I DO NOT LIKE GREEN EGGS AND HAM. I DO NOT LIKE THEM, SAM I AM.\n",
    "WOULD YOU LIKE THEM IN A HOUSE? WOULD YOU LIKE THEM WITH A MOUSE?\n",
    "I DO NOT LIKE THEM IN A HOUSE. I DO NOT LIKE THEM WITH A MOUSE. \n",
    "I DO NOT LIKE THEM HERE OR THERE. I DO NOT LIKE THEM ANYWHERE. \n",
    "I DO NOT LIKE GREEN EGGS AND HAM. I DO NOT LIKE THEM, SAM I AM.\n",
    "WOULD YOU EAT THEM IN A BOX? WOULD YOU EAT THEM WITH A FOX?\n",
    "NOT IN A BOX. NOT WITH A FOX. NOT IN A HOUSE. NOT WITH A MOUSE. \n",
    "I WOULD NOT EAT THEM HERE OR THERE. I WOULD NOT EAT THEM ANYWHERE. \n",
    "I WOULD NOT EAT GREEN EGGS AND HAM. I DO NOT LIKE THEM, SAM I AM.\n",
    "WOULD YOU? COULD YOU? IN A CAR? EAT THEM! EAT THEM! HERE THEY ARE.\n",
    "I WOULD NOT, COULD NOT, IN A CAR. \n",
    "YOU MAY LIKE THEM. YOU WILL SEE. YOU MAY LIKE THEM IN A TREE!\n",
    "I WOULD NOT, COULD NOT IN A TREE. NOT IN A CAR! YOU LET ME BE. \n",
    "I DO NOT LIKE THEM IN A BOX. I DO NOT LIKE THEM WITH A FOX. \n",
    "I DO NOT LIKE THEM IN A HOUSE. I DO NOT LIKE THEM WITH A MOUSE. \n",
    "I DO NOT LIKE THEM HERE OR THERE. I DO NOT LIKE THEM ANYWHERE. \n",
    "I DO NOT LIKE GREEN EGGS AND HAM. I DO NOT LIKE THEM, SAM I AM.\n",
    "A TRAIN! A TRAIN! A TRAIN! A TRAIN! COULD YOU, WOULD YOU ON A TRAIN?\n",
    "NOT ON TRAIN! NOT IN A TREE! NOT IN A CAR! SAM! LET ME BE! \n",
    "I WOULD NOT, COULD NOT, IN A BOX. I WOULD NOT, COULD NOT, WITH A FOX. \n",
    "I WILL NOT EAT THEM IN A HOUSE. I WILL NOT EAT THEM HERE OR THERE. \n",
    "I WILL NOT EAT THEM ANYWHERE. I DO NOT EAT GREEN EGGS AND HAM. \n",
    "I DO NOT LIKE THEM, SAM I AM.\n",
    "SAY! IN THE DARK? HERE IN THE DARK! WOULD YOU, COULD YOU, IN THE DARK?\n",
    "I WOULD NOT, COULD NOT, IN THE DARK.\n",
    "WOULD YOU COULD YOU IN THE RAIN?\n",
    "I WOULD NOT, COULD NOT IN THE RAIN. NOT IN THE DARK. NOT ON A TRAIN. \n",
    "NOT IN A CAR. NOT IN A TREE. I DO NOT LIKE THEM, SAM, YOU SEE. \n",
    "NOT IN A HOUSE. NOT IN A BOX. NOT WITH A MOUSE. NOT WITH A FOX. \n",
    "I WILL NOT EAT THEM HERE OR THERE. I DO NOT LIKE THEM ANYWHERE!\n",
    "YOU DO NOT LIKE GREEN EGGS AND HAM?\n",
    "I DO NOT LIKE THEM, SAM I AM.\n",
    "COULD YOU, WOULD YOU, WITH A GOAT?\n",
    "I WOULD NOT, COULD NOT WITH A GOAT!\n",
    "WOULD YOU, COULD YOU, ON A BOAT?\n",
    "I COULD NOT, WOULD NOT, ON A BOAT. I WILL NOT, WILL NOT, WITH A GOAT. \n",
    "I WILL NOT EAT THEM IN THE RAIN. NOT IN THE DARK! NOT IN A TREE! \n",
    "NOT IN A CAR! YOU LET ME BE! I DO NOT LIKE THEM IN A BOX. I DO NOT LIKE THEM WITH A FOX. \n",
    "I WILL NOT EAT THEM IN A HOUSE. I DO NOT LIKE THEM WITH A MOUSE. \n",
    "I DO NOT LIKE THEM HERE OR THERE. I DO NOT LIKE THEM ANYWHERE! \n",
    "I DO NOT LIKE GREEN EGGS AND HAM! I DO NOT LIKE THEM, SAM I AM.\n",
    "YOU DO NOT LIKE THEM. SO YOU SAY. TRY THEM! TRY THEM! AND YOU MAY. \n",
    "TRY THEM AND YOU MAY, I SAY.\n",
    "SAM! IF YOU LET ME BE, I WILL TRY THEM. YOU WILL SEE.\n",
    "SAY! I LIKE GREEN EGGS AND HAM! I DO! I LIKE THEM, SAM I AM! \n",
    "AND I WOULD EAT THEM IN A BOAT. AND I WOULD EAT THEM WITH A GOAT. \n",
    "AND I WILL EAT THEM, IN THE RAIN. AND IN THE DARK. AND ON A TRAIN. \n",
    "AND IN A CAR. AND IN A TREE. THEY ARE SO GOOD, SO GOOD, YOU SEE! \n",
    "SO I WILL EAT THEM IN A BOX. AND I WILL EAT THEM WITH A FOX. \n",
    "AND I WILL EAT THEM IN A HOUSE. AND I WILL EAT THEM WITH A MOUSE. \n",
    "AND I WILL EAT THEM HERE AND THERE. SAY! I WILL EAT THEM ANYWHERE! \n",
    "I DO SO LIKE GREEN EGGS AND HAM! THANK YOU! THANK YOU, SAM I AM.\n",
    "'''"
   ]
  },
  {
   "cell_type": "code",
   "execution_count": 12,
   "metadata": {},
   "outputs": [],
   "source": [
    "punctuation=\".,?!\"\n",
    "space=\"\"\n",
    "for word in geah:\n",
    "    if word not in punctuation:\n",
    "        space=space+word\n",
    "split_geah=space.split()\n",
    "split_geah\n",
    "        \n",
    "                  \n",
    "d={}\n",
    "#iterate over each word in the list and construct your dictionary. \n",
    "for word in split_geah:\n",
    "    if word in d:\n",
    "        d[word]+=1\n",
    "\n",
    "#For each word, check to see if the key already exists in the dictionary (see in keys() ) add 1 to the value\n",
    "                         \n",
    "#otherwise create a new key.\n",
    "    else:\n",
    "        d[word]=1\n",
    "              "
   ]
  },
  {
   "cell_type": "code",
   "execution_count": 13,
   "metadata": {},
   "outputs": [
    {
     "data": {
      "text/plain": [
       "50"
      ]
     },
     "execution_count": 13,
     "metadata": {},
     "output_type": "execute_result"
    }
   ],
   "source": [
    "len(d) # do not modify. Should be 50."
   ]
  },
  {
   "cell_type": "code",
   "execution_count": 14,
   "metadata": {},
   "outputs": [
    {
     "data": {
      "text/plain": [
       "12"
      ]
     },
     "execution_count": 14,
     "metadata": {},
     "output_type": "execute_result"
    }
   ],
   "source": [
    "d['GREEN']  # do not modify. We will check this result for grading"
   ]
  },
  {
   "cell_type": "code",
   "execution_count": 15,
   "metadata": {},
   "outputs": [
    {
     "data": {
      "text/plain": [
       "26"
      ]
     },
     "execution_count": 15,
     "metadata": {},
     "output_type": "execute_result"
    }
   ],
   "source": [
    "d['AND']   # do not modify. We will check this result for grading"
   ]
  },
  {
   "cell_type": "code",
   "execution_count": 16,
   "metadata": {},
   "outputs": [
    {
     "data": {
      "text/plain": [
       "83"
      ]
     },
     "execution_count": 16,
     "metadata": {},
     "output_type": "execute_result"
    }
   ],
   "source": [
    "d['I']    # do not modify. We will check this result for grading"
   ]
  },
  {
   "cell_type": "code",
   "execution_count": 17,
   "metadata": {},
   "outputs": [
    {
     "data": {
      "text/plain": [
       "82"
      ]
     },
     "execution_count": 17,
     "metadata": {},
     "output_type": "execute_result"
    }
   ],
   "source": [
    "d['NOT']  # do not modify. We will check this result for grading"
   ]
  },
  {
   "cell_type": "code",
   "execution_count": 18,
   "metadata": {},
   "outputs": [
    {
     "data": {
      "text/plain": [
       "56"
      ]
     },
     "execution_count": 18,
     "metadata": {},
     "output_type": "execute_result"
    }
   ],
   "source": [
    "d['A'] # do not modify. We will check this result for grading"
   ]
  },
  {
   "cell_type": "code",
   "execution_count": 19,
   "metadata": {},
   "outputs": [
    {
     "data": {
      "text/plain": [
       "7"
      ]
     },
     "execution_count": 19,
     "metadata": {},
     "output_type": "execute_result"
    }
   ],
   "source": [
    "d['MOUSE'] # do not modify. We will check this result for grading"
   ]
  },
  {
   "cell_type": "markdown",
   "metadata": {},
   "source": [
    "# Problem 5: [10 pts]"
   ]
  },
  {
   "cell_type": "markdown",
   "metadata": {},
   "source": [
    "Write a palindrome detector. A palindrome is a word or phrase that is spelled the sameway forwards or backwards (ignoring punctuation and spaces).\n",
    "\n",
    "For example:\n",
    "- \"toot\"\n",
    "- \"racecar\"\n",
    "- \"taco cat\"\n",
    "- \"A man, A plan, A canal, Panama!\""
   ]
  },
  {
   "cell_type": "code",
   "execution_count": 20,
   "metadata": {},
   "outputs": [],
   "source": [
    "def is_palindrome(string):\n",
    "    x=string.replace(\" \",\"\")\n",
    "    # make everything lowercase\n",
    "    str_lower=x.lower()\n",
    "    punctuation=\".?!,\"\n",
    "    space=\"\"\n",
    "    #take out spaces and punctuation\n",
    "    for c in str_lower:\n",
    "        if c not in punctuation:\n",
    "            space=space+c\n",
    "    if space[::-1]== space:\n",
    "        return True\n",
    "    else: \n",
    "        return False\n"
   ]
  },
  {
   "cell_type": "code",
   "execution_count": 21,
   "metadata": {},
   "outputs": [
    {
     "data": {
      "text/plain": [
       "True"
      ]
     },
     "execution_count": 21,
     "metadata": {},
     "output_type": "execute_result"
    }
   ],
   "source": [
    "is_palindrome(\"toot\") # True"
   ]
  },
  {
   "cell_type": "code",
   "execution_count": 22,
   "metadata": {},
   "outputs": [
    {
     "data": {
      "text/plain": [
       "True"
      ]
     },
     "execution_count": 22,
     "metadata": {},
     "output_type": "execute_result"
    }
   ],
   "source": [
    "is_palindrome(\"taco cat\") # True"
   ]
  },
  {
   "cell_type": "code",
   "execution_count": 23,
   "metadata": {},
   "outputs": [
    {
     "data": {
      "text/plain": [
       "True"
      ]
     },
     "execution_count": 23,
     "metadata": {},
     "output_type": "execute_result"
    }
   ],
   "source": [
    "is_palindrome(\"A man, A plan, A canal, Panama!\") # True"
   ]
  },
  {
   "cell_type": "code",
   "execution_count": 24,
   "metadata": {},
   "outputs": [
    {
     "data": {
      "text/plain": [
       "False"
      ]
     },
     "execution_count": 24,
     "metadata": {},
     "output_type": "execute_result"
    }
   ],
   "source": [
    "is_palindrome(\"words\") # False"
   ]
  },
  {
   "cell_type": "markdown",
   "metadata": {},
   "source": [
    "# Problem 6:  [15 pts]\n",
    "\n",
    "Write a silly 'guess the number' program. In this program, the computer will be doing the 'guessing'\n",
    "\n",
    "- In this silly game, you will specify an arbitrary integer between 1 and 100.\n",
    "    - If x is not an integer or outside the range, the program should quit.\n",
    "- With a proper x specified, the computer will then try to guess the number.\n",
    "- Each turn will print the turn number. Then the program will print \"Computer guesses: [number]\"\n",
    "- After it guesses, the computer will \"learn\" whether your 'secret' number is larger or smaller than its guess. The program will print \"Your number is [larger/smaller] than [guess]\"\n",
    "- It will guess another number. Again it will learn if your 'secret' number is larger or smaller, and so on until the computer correctly guesses your real number.\n",
    "- When it correctly guesses the number, it will print \"Your number is [number]! The game has ended.\" The function will return the guess as the result.\n",
    "\n",
    "The game should have enough 'strategy' to guess any number correctly in 7 tries or fewer."
   ]
  },
  {
   "cell_type": "markdown",
   "metadata": {},
   "source": [
    "Sample Output for when 32 is the input. You don't have to follow the exact same guess order. You just need to get it right within 7 turns.\n",
    "\n",
    "```\n",
    "Turn 1\n",
    "Computer guesses: 50\n",
    "Your number is smaller than 50\n",
    "Turn 2\n",
    "Computer guesses: 25\n",
    "Your number is larger than 25\n",
    "Turn 3\n",
    "Computer guesses: 37\n",
    "Your number is smaller than 37\n",
    "Turn 4\n",
    "Computer guesses: 31\n",
    "Your number is larger than 31\n",
    "Turn 5\n",
    "Computer guesses: 34\n",
    "Your number is smaller than 34\n",
    "Turn 6\n",
    "Computer guesses: 33\n",
    "Your number is smaller than 33\n",
    "Turn 7\n",
    "Computer guesses: 32\n",
    "Your number is 32! The game has ended.\n",
    "```"
   ]
  },
  {
   "cell_type": "markdown",
   "metadata": {},
   "source": [
    "More sample output\n",
    "```\n",
    "Turn 1\n",
    "Computer guesses: 50\n",
    "Your number is larger than 50\n",
    "Turn 2\n",
    "Computer guesses: 75\n",
    "Your number is larger than 75\n",
    "Turn 3\n",
    "Computer guesses: 87\n",
    "Your number is larger than 87\n",
    "Turn 4\n",
    "Computer guesses: 93\n",
    "Your number is 93! The game has ended.\n",
    "```"
   ]
  },
  {
   "cell_type": "code",
   "execution_count": 25,
   "metadata": {},
   "outputs": [
    {
     "name": "stdout",
     "output_type": "stream",
     "text": [
      "5\n"
     ]
    }
   ],
   "source": [
    "print(int(5.1))"
   ]
  },
  {
   "cell_type": "code",
   "execution_count": 26,
   "metadata": {},
   "outputs": [],
   "source": [
    "def guess_game(x):\n",
    "    guess=50\n",
    "    lim=100\n",
    "    minimum=0\n",
    "    turn=1\n",
    "    if type(x) != int:\n",
    "        print(\"x must be an integer\")\n",
    "    elif x<1 or x>100:\n",
    "        print(\"x is outside the range 1-100\")\n",
    "    else:\n",
    "        while guess!=x:\n",
    "            print(\"Turn \" , str(turn))\n",
    "            print(\"Computer guesses: \", str(guess)) \n",
    "            if x>guess: \n",
    "                print(\"Your number is larger than \" , str(guess))\n",
    "                minimum=guess\n",
    "                guess= int((guess+lim)/2)\n",
    "            elif x < guess: \n",
    "                print(\"Your number is smaller than \", str(guess))\n",
    "                lim=guess\n",
    "                guess=int((guess+minimum)/2)\n",
    "            turn=turn+1\n",
    "        else: \n",
    "            print(\"Turn \" , str(turn))\n",
    "            print(\"Computer guesses: \", str(guess)) \n",
    "            print(\"Your number is \" , str(x) , \"!\" , \"The game has ended.\")\n",
    "            \n",
    "    "
   ]
  },
  {
   "cell_type": "code",
   "execution_count": 27,
   "metadata": {},
   "outputs": [
    {
     "name": "stdout",
     "output_type": "stream",
     "text": [
      "x is outside the range 1-100\n"
     ]
    }
   ],
   "source": [
    "# do not modify. We will check this result for grading\n",
    "# should print: \"x is outside the range 1-100\"\n",
    "guess_game(0)"
   ]
  },
  {
   "cell_type": "code",
   "execution_count": 28,
   "metadata": {},
   "outputs": [
    {
     "name": "stdout",
     "output_type": "stream",
     "text": [
      "x must be an integer\n"
     ]
    }
   ],
   "source": [
    "# do not modify. We will check this result for grading\n",
    "# should print: \"x must be an integer\"\n",
    "guess_game(1.5)"
   ]
  },
  {
   "cell_type": "code",
   "execution_count": 29,
   "metadata": {},
   "outputs": [
    {
     "name": "stdout",
     "output_type": "stream",
     "text": [
      "Turn  1\n",
      "Computer guesses:  50\n",
      "Your number is larger than  50\n",
      "Turn  2\n",
      "Computer guesses:  75\n",
      "Your number is larger than  75\n",
      "Turn  3\n",
      "Computer guesses:  87\n",
      "Your number is larger than  87\n",
      "Turn  4\n",
      "Computer guesses:  93\n",
      "Your number is  93 ! The game has ended.\n"
     ]
    }
   ],
   "source": [
    "guess_game(93) # do not modify. We will check this result for grading"
   ]
  },
  {
   "cell_type": "code",
   "execution_count": 30,
   "metadata": {},
   "outputs": [
    {
     "name": "stdout",
     "output_type": "stream",
     "text": [
      "Turn  1\n",
      "Computer guesses:  50\n",
      "Your number is smaller than  50\n",
      "Turn  2\n",
      "Computer guesses:  25\n",
      "Your number is larger than  25\n",
      "Turn  3\n",
      "Computer guesses:  37\n",
      "Your number is smaller than  37\n",
      "Turn  4\n",
      "Computer guesses:  31\n",
      "Your number is larger than  31\n",
      "Turn  5\n",
      "Computer guesses:  34\n",
      "Your number is smaller than  34\n",
      "Turn  6\n",
      "Computer guesses:  32\n",
      "Your number is  32 ! The game has ended.\n"
     ]
    }
   ],
   "source": [
    "guess_game(32) # do not modify. We will check this result for grading"
   ]
  },
  {
   "cell_type": "code",
   "execution_count": 31,
   "metadata": {},
   "outputs": [
    {
     "name": "stdout",
     "output_type": "stream",
     "text": [
      "Turn  1\n",
      "Computer guesses:  50\n",
      "Your number is larger than  50\n",
      "Turn  2\n",
      "Computer guesses:  75\n",
      "Your number is larger than  75\n",
      "Turn  3\n",
      "Computer guesses:  87\n",
      "Your number is larger than  87\n",
      "Turn  4\n",
      "Computer guesses:  93\n",
      "Your number is larger than  93\n",
      "Turn  5\n",
      "Computer guesses:  96\n",
      "Your number is larger than  96\n",
      "Turn  6\n",
      "Computer guesses:  98\n",
      "Your number is larger than  98\n",
      "Turn  7\n",
      "Computer guesses:  99\n",
      "Your number is  99 ! The game has ended.\n"
     ]
    }
   ],
   "source": [
    "guess_game(99) # do not modify. We will check this result for grading"
   ]
  },
  {
   "cell_type": "markdown",
   "metadata": {},
   "source": [
    "# Problem 7"
   ]
  },
  {
   "cell_type": "markdown",
   "metadata": {},
   "source": [
    "Write two functions for a Tic-tac-toe game.\n",
    "\n",
    "The first function you'll write is `check_winner()`\n",
    "\n",
    "The second function is `computer_move()`"
   ]
  },
  {
   "cell_type": "code",
   "execution_count": 32,
   "metadata": {},
   "outputs": [
    {
     "name": "stdout",
     "output_type": "stream",
     "text": [
      "[0, 1, 2, 3, 4, 5, 6, 7, 8]\n"
     ]
    }
   ],
   "source": [
    "state = list(range(9))\n",
    "print(state)"
   ]
  },
  {
   "cell_type": "code",
   "execution_count": 33,
   "metadata": {},
   "outputs": [],
   "source": [
    "# provided by professor\n",
    "def display(state):\n",
    "    board = str(state[0]) + \"|\" + str(state[1]) + \"|\" + str(state[2]) + \"\\n\" + \\\n",
    "    \"-+-+-\\n\" + \\\n",
    "    str(state[3]) + \"|\" + str(state[4]) + \"|\" + str(state[5]) + \"\\n\" + \\\n",
    "    \"-+-+-\\n\" + \\\n",
    "    str(state[6]) + \"|\" + str(state[7]) + \"|\" + str(state[8])\n",
    "    print(board)"
   ]
  },
  {
   "cell_type": "code",
   "execution_count": 34,
   "metadata": {},
   "outputs": [
    {
     "name": "stdout",
     "output_type": "stream",
     "text": [
      "0|1|2\n",
      "-+-+-\n",
      "3|4|5\n",
      "-+-+-\n",
      "6|7|8\n"
     ]
    }
   ],
   "source": [
    "display(state)"
   ]
  },
  {
   "cell_type": "markdown",
   "metadata": {},
   "source": [
    "## Problem 7A `check_winner()` [15pts]"
   ]
  },
  {
   "cell_type": "markdown",
   "metadata": {},
   "source": [
    "Write a function `check_winner()` that will return who won the game.\n",
    "The function should return: \"X\", \"O\", \"D\" (for draw), or \"N\" (for games still in progress)\n",
    "\n",
    "You are not required to do checks for 'dirty inputs'. You can always assume that the input for state will always be a list of length 9 with either \"X\", \"O\" or an integer between 0 and 9."
   ]
  },
  {
   "cell_type": "code",
   "execution_count": 35,
   "metadata": {},
   "outputs": [],
   "source": [
    "def check_winner(state):\n",
    "    if state[0]==state[1] and state[0]==state[2]:\n",
    "        return(state[0])\n",
    "    if state[0]==state[3] and state[0]==state[6]:\n",
    "        return(state[0])\n",
    "    if state[0]==state[3] and state[0]==state[6]:\n",
    "        return(state[0])\n",
    "    if state[0]==state[4] and state[0]==state[8]:\n",
    "        return(state[0])\n",
    "    if state[1]==state[4] and state[1]==state[7]:\n",
    "        return(state[1])\n",
    "    if state[2]==state[5] and state[2]==state[8]:\n",
    "        return(state[2])\n",
    "    if state[2]==state[4] and state[2]==state[6]:\n",
    "        return(state[2])\n",
    "    if state[3]==state[4] and state[3]==state[5]:\n",
    "        return(state[3])\n",
    "    if state[6]==state[7] and state[6]==state[8]:\n",
    "        return(state[6])\n",
    "    for i in state:\n",
    "        if type(i)==int:\n",
    "            return (\"N\")\n",
    "    else:\n",
    "        return (\"D\")"
   ]
  },
  {
   "cell_type": "code",
   "execution_count": 36,
   "metadata": {},
   "outputs": [],
   "source": [
    "# Do not modify the following cells.. We will check this result for grading."
   ]
  },
  {
   "cell_type": "code",
   "execution_count": 37,
   "metadata": {},
   "outputs": [
    {
     "name": "stdout",
     "output_type": "stream",
     "text": [
      "0|X|O\n",
      "-+-+-\n",
      "3|X|O\n",
      "-+-+-\n",
      "6|X|8\n"
     ]
    },
    {
     "data": {
      "text/plain": [
       "'X'"
      ]
     },
     "execution_count": 37,
     "metadata": {},
     "output_type": "execute_result"
    }
   ],
   "source": [
    "# should return the value: \"X\"\n",
    "state = [0, \"X\", \"O\", 3, \"X\", \"O\", 6, \"X\", 8]\n",
    "display(state)\n",
    "check_winner(state)\n"
   ]
  },
  {
   "cell_type": "code",
   "execution_count": 38,
   "metadata": {},
   "outputs": [
    {
     "name": "stdout",
     "output_type": "stream",
     "text": [
      "X|X|O\n",
      "-+-+-\n",
      "X|O|5\n",
      "-+-+-\n",
      "O|7|8\n"
     ]
    },
    {
     "data": {
      "text/plain": [
       "'O'"
      ]
     },
     "execution_count": 38,
     "metadata": {},
     "output_type": "execute_result"
    }
   ],
   "source": [
    "# should return the value: \"O\"\n",
    "state = [\"X\", \"X\", \"O\", \"X\", \"O\", 5, \"O\", 7, 8]\n",
    "display(state)\n",
    "check_winner(state)"
   ]
  },
  {
   "cell_type": "code",
   "execution_count": 39,
   "metadata": {},
   "outputs": [
    {
     "name": "stdout",
     "output_type": "stream",
     "text": [
      "O|X|O\n",
      "-+-+-\n",
      "X|X|O\n",
      "-+-+-\n",
      "X|O|X\n"
     ]
    },
    {
     "data": {
      "text/plain": [
       "'D'"
      ]
     },
     "execution_count": 39,
     "metadata": {},
     "output_type": "execute_result"
    }
   ],
   "source": [
    "# should return the value: \"D\"\n",
    "state = [\"O\", \"X\", \"O\", \"X\", \"X\", \"O\", \"X\", \"O\", \"X\"]\n",
    "display(state)\n",
    "check_winner(state)"
   ]
  },
  {
   "cell_type": "code",
   "execution_count": 40,
   "metadata": {},
   "outputs": [
    {
     "name": "stdout",
     "output_type": "stream",
     "text": [
      "O|X|O\n",
      "-+-+-\n",
      "X|X|O\n",
      "-+-+-\n",
      "X|O|8\n"
     ]
    },
    {
     "data": {
      "text/plain": [
       "'N'"
      ]
     },
     "execution_count": 40,
     "metadata": {},
     "output_type": "execute_result"
    }
   ],
   "source": [
    "# should return the value: \"N\"\n",
    "state = [\"O\", \"X\", \"O\", \"X\", \"X\", \"O\", \"X\", \"O\", 8]\n",
    "display(state)\n",
    "check_winner(state)"
   ]
  },
  {
   "cell_type": "markdown",
   "metadata": {},
   "source": [
    "## Problem 7B `computer_turn()` [20 pts]"
   ]
  },
  {
   "cell_type": "markdown",
   "metadata": {},
   "source": [
    "Write a function `computer_turn()`. Computer turn should have the following logic:\n",
    "\n",
    "- If the computer can win on the next turn, it must win\n",
    "- If the computer cannot win but the opponent can win, the computer must block the opponent from winning\n",
    "- If the computer can neither win nor block, the computer can play any available postion. For this part, you have two choices, both will net full credit.\n",
    "    - Select an open position in the following order of preference:\n",
    "        - center (index 4)\n",
    "        - corner (index 0 2 6 8)\n",
    "        - side (index 1 3 5 7)\n",
    "    - Select an open position to implement perfect play\n",
    "\n",
    "You are not required to do checks for 'dirty inputs'. You can always assume that the input for state will always be a list of length 9 with either \"X\", \"O\" or an integer between 0 and 9."
   ]
  },
  {
   "cell_type": "code",
   "execution_count": 41,
   "metadata": {},
   "outputs": [],
   "source": [
    "import random\n",
    "# function random.choice() will select a random value from a list"
   ]
  },
  {
   "cell_type": "code",
   "execution_count": 42,
   "metadata": {},
   "outputs": [],
   "source": [
    "# write your function here\n",
    "def computer_turn(state, person):\n",
    "    m=0\n",
    "    comp=0\n",
    "    chance=[]\n",
    "    if person==\"X\":\n",
    "        comp=\"O\"\n",
    "    if person==\"O\": #maybe change\n",
    "        comp= \"X\"\n",
    "    #Define winning combinations\n",
    "    winning=((0,1,2),(3,4,5),(6,7,8),(0,3,6),(1,4,7), (2,5,8), (0,4,8), (2,4,6))\n",
    "    open_moves=list(filter(lambda letter:letter !=\"X\" and letter!=\"O\", state)) \n",
    "    center=[value for value in open_moves if value==4]\n",
    "    corner=[value for value in open_moves if value in [0,2,6,8]]\n",
    "    sides=[value for value in open_moves if value in [1,3,5,7]]\n",
    "    for i in winning:\n",
    "        if state[i[0]]==state[i[1]]==person and i[2] in open_moves: #right block x\n",
    "            return(state[i[2]])\n",
    "        elif state[i[1]]==state[i[2]]==person and i[0] in open_moves: #left block x\n",
    "            return(state[i[0]])\n",
    "        elif state[i[0]]==state[i[2]]==person and i[1] in open_moves: #center block x\n",
    "            return(state[i[1]])\n",
    "            \n",
    "    for i in winning:\n",
    "        if state[i[0]]==state[i[1]]==comp and state[i[2]] in open_moves: #right block o\n",
    "            return(state[i[2]]) \n",
    "        elif state[i[2]]==state[i[1]]==comp and state[i[0]] in open_moves:#left block o\n",
    "            return(state[i[0]])\n",
    "        elif state[i[0]]==state[i[2]]==comp and state[i[1]]in open_moves:#center block o\n",
    "            return(state[i[1]])\n",
    "        else: \n",
    "            if 4 in open_moves:\n",
    "                m=4\n",
    "            if [0,2,6,8] in open_moves:\n",
    "                m=random.choice(corner)\n",
    "            if [1,3,5,7] in open_moves:\n",
    "                m=random.choice(sides)\n",
    "    return m\n",
    "\n",
    "\n",
    "        \n",
    "    "
   ]
  },
  {
   "cell_type": "code",
   "execution_count": 43,
   "metadata": {},
   "outputs": [],
   "source": [
    "\n",
    "# do not modify the following, they are test cases that will be used for grading"
   ]
  },
  {
   "cell_type": "code",
   "execution_count": 44,
   "metadata": {},
   "outputs": [
    {
     "name": "stdout",
     "output_type": "stream",
     "text": [
      "X|1|2\n",
      "-+-+-\n",
      "3|O|5\n",
      "-+-+-\n",
      "X|7|8\n"
     ]
    },
    {
     "data": {
      "text/plain": [
       "3"
      ]
     },
     "execution_count": 44,
     "metadata": {},
     "output_type": "execute_result"
    }
   ],
   "source": [
    "state = [\"X\", 1, 2, 3, \"O\", 5, \"X\", 7, 8]\n",
    "display(state)\n",
    "computer_turn(state, \"O\") # returns 3"
   ]
  },
  {
   "cell_type": "code",
   "execution_count": 45,
   "metadata": {},
   "outputs": [
    {
     "name": "stdout",
     "output_type": "stream",
     "text": [
      "X|O|2\n",
      "-+-+-\n",
      "3|O|5\n",
      "-+-+-\n",
      "6|7|X\n"
     ]
    },
    {
     "data": {
      "text/plain": [
       "7"
      ]
     },
     "execution_count": 45,
     "metadata": {},
     "output_type": "execute_result"
    }
   ],
   "source": [
    "state = [\"X\", \"O\", 2, 3, \"O\", 5, 6, 7, \"X\"]\n",
    "display(state)\n",
    "computer_turn(state, \"X\") # returns 7"
   ]
  },
  {
   "cell_type": "code",
   "execution_count": 46,
   "metadata": {},
   "outputs": [
    {
     "name": "stdout",
     "output_type": "stream",
     "text": [
      "O|O|2\n",
      "-+-+-\n",
      "X|X|5\n",
      "-+-+-\n",
      "6|7|8\n"
     ]
    },
    {
     "data": {
      "text/plain": [
       "5"
      ]
     },
     "execution_count": 46,
     "metadata": {},
     "output_type": "execute_result"
    }
   ],
   "source": [
    "state = [\"O\", \"O\", 2, \"X\", \"X\", 5, 6, 7, 8]\n",
    "display(state)\n",
    "computer_turn(state, \"X\") # returns 5"
   ]
  },
  {
   "cell_type": "code",
   "execution_count": 47,
   "metadata": {},
   "outputs": [
    {
     "name": "stdout",
     "output_type": "stream",
     "text": [
      "O|O|2\n",
      "-+-+-\n",
      "X|X|5\n",
      "-+-+-\n",
      "6|7|8\n"
     ]
    },
    {
     "data": {
      "text/plain": [
       "2"
      ]
     },
     "execution_count": 47,
     "metadata": {},
     "output_type": "execute_result"
    }
   ],
   "source": [
    "state = [\"O\", \"O\", 2, \"X\", \"X\", 5, 6, 7, 8]\n",
    "display(state)\n",
    "computer_turn(state, \"O\") # returns 2"
   ]
  },
  {
   "cell_type": "code",
   "execution_count": 48,
   "metadata": {},
   "outputs": [
    {
     "name": "stdout",
     "output_type": "stream",
     "text": [
      "O|1|2\n",
      "-+-+-\n",
      "3|O|5\n",
      "-+-+-\n",
      "6|X|X\n"
     ]
    },
    {
     "data": {
      "text/plain": [
       "6"
      ]
     },
     "execution_count": 48,
     "metadata": {},
     "output_type": "execute_result"
    }
   ],
   "source": [
    "state = [\"O\", 1, 2, 3, \"O\", 5, 6, \"X\", \"X\"]\n",
    "display(state)\n",
    "computer_turn(state, \"O\") # returns 6"
   ]
  },
  {
   "cell_type": "code",
   "execution_count": 49,
   "metadata": {},
   "outputs": [
    {
     "name": "stdout",
     "output_type": "stream",
     "text": [
      "O|1|2\n",
      "-+-+-\n",
      "3|O|5\n",
      "-+-+-\n",
      "6|X|X\n"
     ]
    },
    {
     "data": {
      "text/plain": [
       "6"
      ]
     },
     "execution_count": 49,
     "metadata": {},
     "output_type": "execute_result"
    }
   ],
   "source": [
    "state = [\"O\", 1, 2, 3, \"O\", 5, 6, \"X\", \"X\"]\n",
    "display(state)\n",
    "computer_turn(state, \"X\") # returns 6"
   ]
  }
 ],
 "metadata": {
  "kernelspec": {
   "display_name": "Python 3",
   "language": "python",
   "name": "python3"
  },
  "language_info": {
   "codemirror_mode": {
    "name": "ipython",
    "version": 3
   },
   "file_extension": ".py",
   "mimetype": "text/x-python",
   "name": "python",
   "nbconvert_exporter": "python",
   "pygments_lexer": "ipython3",
   "version": "3.7.3"
  }
 },
 "nbformat": 4,
 "nbformat_minor": 2
}
